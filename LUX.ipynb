{
 "cells": [
  {
   "cell_type": "markdown",
   "metadata": {},
   "source": [
    "## Import Libraries"
   ]
  },
  {
   "cell_type": "code",
   "execution_count": 24,
   "metadata": {},
   "outputs": [],
   "source": [
    "import requests\n",
    "import csv\n",
    "from selenium import webdriver\n",
    "from bs4 import BeautifulSoup"
   ]
  },
  {
   "cell_type": "markdown",
   "metadata": {},
   "source": [
    "## Fetch the URL"
   ]
  },
  {
   "cell_type": "code",
   "execution_count": 37,
   "metadata": {},
   "outputs": [],
   "source": [
    "url = \"https://health.policybazaar.com/quotes?tabel=4&enquiryid=MTQzOTgxMDMx&profileid=35378789\""
   ]
  },
  {
   "cell_type": "code",
   "execution_count": 38,
   "metadata": {},
   "outputs": [],
   "source": [
    "driver = webdriver.Chrome(executable_path=\"./driver/chromedriver\")\n",
    "driver.get(url)\n",
    "content_element = driver.find_element_by_class_name(\"quotes-wrapper-new\")\n",
    "content_html = content_element.get_attribute(\"innerHTML\")"
   ]
  },
  {
   "cell_type": "code",
   "execution_count": 39,
   "metadata": {},
   "outputs": [],
   "source": [
    "soup = BeautifulSoup(content_html, \"lxml\")"
   ]
  },
  {
   "cell_type": "code",
   "execution_count": 40,
   "metadata": {},
   "outputs": [],
   "source": [
    "box = soup.find_all('div', class_='quotes-box-main')"
   ]
  },
  {
   "cell_type": "markdown",
   "metadata": {},
   "source": [
    "## Configure CSV File"
   ]
  },
  {
   "cell_type": "code",
   "execution_count": 43,
   "metadata": {},
   "outputs": [
    {
     "data": {
      "text/plain": [
       "73"
      ]
     },
     "execution_count": 43,
     "metadata": {},
     "output_type": "execute_result"
    }
   ],
   "source": [
    "csv_file = open('result.csv', 'w')\n",
    "csv_writer = csv.writer(csv_file)\n",
    "csv_writer.writerow(['Insurance Company Image URL', 'Number of Cashless Hospitals', 'Annual Premium'])"
   ]
  },
  {
   "cell_type": "markdown",
   "metadata": {},
   "source": [
    "## Fetch the details and save"
   ]
  },
  {
   "cell_type": "code",
   "execution_count": 44,
   "metadata": {},
   "outputs": [
    {
     "name": "stdout",
     "output_type": "stream",
     "text": [
      "https://health.policybazaar.com/supplier-logo/Religare.png?var=16\n",
      "368\n",
      "10,965\n",
      "\n",
      "https://health.policybazaar.com/supplier-logo/Max_Bupa.png?var=16\n",
      "207\n",
      "8,496\n",
      "\n",
      "https://health.policybazaar.com/supplier-logo/Star_Health.png?var=16\n",
      "453\n",
      "10,608\n",
      "\n",
      "https://health.policybazaar.com/supplier-logo/Apollo_Munich.png?var=16\n",
      "225\n",
      "11,159\n",
      "\n",
      "https://health.policybazaar.com/supplier-logo/HDFC_ERGO.png?var=16\n",
      "308\n",
      "8,793\n",
      "\n",
      "https://health.policybazaar.com/supplier-logo/Reliance_Health_insurance.png?var=16\n",
      "210\n",
      "10,054\n",
      "\n",
      "https://health.policybazaar.com/supplier-logo/Royal_Sundaram.png?var=16\n",
      "225\n",
      "8,351\n",
      "\n",
      "https://health.policybazaar.com/supplier-logo/ManipalCigna.png?var=16\n",
      "430\n",
      "8,823\n",
      "\n",
      "https://health.policybazaar.com/supplier-logo/Aditya_Birla.png?var=16\n",
      "241\n",
      "13,293\n",
      "\n",
      "https://health.policybazaar.com/supplier-logo/DIGIT.png?var=16\n",
      "355\n",
      "14,269\n",
      "\n",
      "https://health.policybazaar.com/supplier-logo/Liberty_General_Insurance.png?var=16\n",
      "28\n",
      "16,001\n",
      "\n",
      "https://health.policybazaar.com/supplier-logo/Bajaj_Allianz.png?var=16\n",
      "279\n",
      "11,914\n",
      "\n",
      "https://health.policybazaar.com/supplier-logo/Universal_Sompo.png?var=16\n",
      "272\n",
      "8,421\n",
      "\n",
      "https://health.policybazaar.com/supplier-logo/Aditya_Birla.png?var=16\n",
      "241\n",
      "9,513\n",
      "\n",
      "https://health.policybazaar.com/supplier-logo/Edelweiss.png?var=16\n",
      "77\n",
      "8,406\n",
      "\n",
      "https://health.policybazaar.com/supplier-logo/Kotak_General_Insurance.png?var=16\n",
      "211\n",
      "8,301\n",
      "\n",
      "https://health.policybazaar.com/supplier-logo/Tata_AIG.png?var=16\n",
      "None\n",
      "10,813\n",
      "\n",
      "https://health.policybazaar.com/supplier-logo/Reliance.png?var=16\n",
      "273\n",
      "9,229\n",
      "\n",
      "https://health.policybazaar.com/supplier-logo/New_India_Assurance.png?var=16\n",
      "178\n",
      "9,084\n",
      "\n",
      "https://health.policybazaar.com/supplier-logo/Future_Generali.png?var=16\n",
      "331\n",
      "11,891\n",
      "\n",
      "https://health.policybazaar.com/supplier-logo/Iffco_Tokio.png?var=16\n",
      "216\n",
      "10,808\n",
      "\n"
     ]
    }
   ],
   "source": [
    "for box in soup.find_all('div', class_='quotes-box-main'):\n",
    "    logo = box.find('img', class_=\"logo-plan\")\n",
    "    imgurl = \"https://health.policybazaar.com/\"+logo['src']\n",
    "    print(imgurl)\n",
    "    try:\n",
    "        num = box.find('span', class_=\"cash-hospital\")\n",
    "        numcash = num.text.split()[0]\n",
    "        print(numcash)\n",
    "    except Exception as e:\n",
    "        numcash = None\n",
    "        print(numcash)\n",
    "    annual = box.find(\"div\", class_=\"anual-text\")\n",
    "    annualpre = annual.text.split()[0]\n",
    "    print(annualpre)\n",
    "    print()\n",
    "    \n",
    "    csv_writer.writerow([imgurl, numcash, annualpre])\n",
    "    \n",
    "    \n",
    "csv_file.close()"
   ]
  },
  {
   "cell_type": "code",
   "execution_count": null,
   "metadata": {},
   "outputs": [],
   "source": []
  }
 ],
 "metadata": {
  "kernelspec": {
   "display_name": "Python 3",
   "language": "python",
   "name": "python3"
  },
  "language_info": {
   "codemirror_mode": {
    "name": "ipython",
    "version": 3
   },
   "file_extension": ".py",
   "mimetype": "text/x-python",
   "name": "python",
   "nbconvert_exporter": "python",
   "pygments_lexer": "ipython3",
   "version": "3.6.8"
  }
 },
 "nbformat": 4,
 "nbformat_minor": 2
}
